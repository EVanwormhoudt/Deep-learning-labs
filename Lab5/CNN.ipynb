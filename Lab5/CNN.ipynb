{
  "nbformat": 4,
  "nbformat_minor": 0,
  "metadata": {
    "colab": {
      "provenance": []
    },
    "kernelspec": {
      "name": "python3",
      "display_name": "Python 3"
    },
    "language_info": {
      "name": "python"
    },
    "accelerator": "GPU",
    "gpuClass": "standard"
  },
  "cells": [
    {
      "cell_type": "code",
      "execution_count": null,
      "metadata": {
        "id": "CMGTr8JpM21i"
      },
      "outputs": [],
      "source": [
        "import tensorflow as tf\n",
        "import numpy as np\n",
        "from tensorflow.keras.utils import to_categorical\n",
        "from tensorflow.keras.layers import  Dense, Dropout,Flatten,BatchNormalization,Activation,Conv2D,MaxPool2D,GlobalAveragePooling2D\n",
        "from tensorflow.keras.models import Sequential\n"
      ]
    },
    {
      "cell_type": "code",
      "source": [
        "mnist = tf.keras.datasets.cifar100\n",
        "\n",
        "(x_train,y_train),(x_validation,y_validation) = mnist.load_data()\n",
        "\n",
        "x_train = x_train.reshape(50000,32,32,3)\n",
        "x_validation = x_validation.reshape(10000,32,32,3)\n",
        "x_train = x_train.astype(\"float32\")\n",
        "x_validation = x_validation.astype(\"float32\")"
      ],
      "metadata": {
        "id": "T5E8ZNPEOLds"
      },
      "execution_count": null,
      "outputs": []
    },
    {
      "cell_type": "code",
      "source": [
        "x_train /= 255\n",
        "x_validation /= 255\n",
        "\n",
        "y_train = to_categorical(y_train, num_classes=100, dtype='int64')\n",
        "y_validation = to_categorical(y_validation, num_classes=100, dtype='int64')"
      ],
      "metadata": {
        "id": "GEMrV8rUOMcR"
      },
      "execution_count": null,
      "outputs": []
    },
    {
      "cell_type": "code",
      "source": [
        "print(\"train samples\", x_train.shape)\n",
        "print(\"test samples\",x_validation.shape)"
      ],
      "metadata": {
        "colab": {
          "base_uri": "https://localhost:8080/"
        },
        "id": "5kn8dAf0OYxD",
        "outputId": "b81da532-cd2d-46f1-af7c-4716900ff2c4"
      },
      "execution_count": null,
      "outputs": [
        {
          "output_type": "stream",
          "name": "stdout",
          "text": [
            "train samples (50000, 32, 32, 3)\n",
            "test samples (10000, 32, 32, 3)\n"
          ]
        }
      ]
    },
    {
      "cell_type": "code",
      "source": [
        "print(\"train label samples\", y_train.shape)\n",
        "print(\"test label samples\",y_validation.shape)"
      ],
      "metadata": {
        "colab": {
          "base_uri": "https://localhost:8080/"
        },
        "id": "q556kEXlOZCl",
        "outputId": "306d32f3-ec78-40ce-d68d-f73d5b9dbf08"
      },
      "execution_count": null,
      "outputs": [
        {
          "output_type": "stream",
          "name": "stdout",
          "text": [
            "train label samples (50000, 100)\n",
            "test label samples (10000, 100)\n"
          ]
        }
      ]
    },
    {
      "cell_type": "code",
      "source": [
        "kernel_size = (3,3)\n",
        "kernel_size_2 = (5,5)\n",
        "pool_size = (2,2)\n",
        "kernel_size_3 = (7,7)\n",
        "\n",
        "model = Sequential()"
      ],
      "metadata": {
        "id": "edo9_t0uOkBs"
      },
      "execution_count": null,
      "outputs": []
    },
    {
      "cell_type": "code",
      "source": [
        "model.add(Conv2D(64,kernel_size_3,activation='relu',input_shape=(32,32,3)))\n",
        "model.add(BatchNormalization())\n",
        "\n",
        "model.add(MaxPool2D(pool_size))\n",
        "model.add(Dropout(0.5))\n",
        "\n",
        "\n",
        "model.add(Conv2D(128,kernel_size_2,activation='relu'))\n",
        "model.add(BatchNormalization())\n",
        "\n",
        "model.add(MaxPool2D(pool_size))\n",
        "model.add(Dropout(0.5))\n",
        "\n",
        "model.add(Conv2D(256,kernel_size,activation='relu'))\n",
        "model.add(BatchNormalization())\n",
        "\n",
        "model.add(MaxPool2D(pool_size))\n",
        "model.add(Dropout(0.5))\n",
        "\n",
        "model.add(Flatten())\n",
        "\n",
        "model.add(Dense(1024,activation='relu'))\n",
        "model.add(BatchNormalization())\n",
        "model.add(Dropout(0.2))\n",
        "\n",
        "model.add(Dense(512,activation='relu'))\n",
        "model.add(BatchNormalization())\n",
        "model.add(Dropout(0.2))\n",
        "\n",
        "model.add(Dense(256,activation='relu'))\n",
        "model.add(BatchNormalization())\n",
        "model.add(Dropout(0.2))\n",
        "\n",
        "\n",
        "model.add(Dense(100,activation='softmax'))\n",
        "\n"
      ],
      "metadata": {
        "id": "JMT_EGQWRMdF"
      },
      "execution_count": null,
      "outputs": []
    },
    {
      "cell_type": "code",
      "source": [
        " model.compile(loss='categorical_crossentropy', optimizer='adam', metrics=[\"accuracy\"])"
      ],
      "metadata": {
        "id": "N52bBd9GT4ME"
      },
      "execution_count": null,
      "outputs": []
    },
    {
      "cell_type": "code",
      "source": [
        "from tensorflow.keras.callbacks import ModelCheckpoint\n",
        "\n",
        "checkpointer = ModelCheckpoint(filepath=\"model.hdf5\",monitor=\"val_loss\",verbose=1,save_best_only = True)\n",
        "\n",
        "history = model.fit(x_train,y_train,validation_data=(x_validation,y_validation),epochs = 20,callbacks=[checkpointer])"
      ],
      "metadata": {
        "colab": {
          "base_uri": "https://localhost:8080/"
        },
        "id": "2yP3kyl0T8Ft",
        "outputId": "202db371-cdc0-492e-c932-4531ede1062b"
      },
      "execution_count": null,
      "outputs": [
        {
          "output_type": "stream",
          "name": "stdout",
          "text": [
            "Epoch 1/20\n",
            "1561/1563 [============================>.] - ETA: 0s - loss: 2.5154 - accuracy: 0.3497\n",
            "Epoch 1: val_loss improved from inf to 2.34294, saving model to model.hdf5\n",
            "1563/1563 [==============================] - 14s 9ms/step - loss: 2.5155 - accuracy: 0.3497 - val_loss: 2.3429 - val_accuracy: 0.3902\n",
            "Epoch 2/20\n",
            "1559/1563 [============================>.] - ETA: 0s - loss: 2.5043 - accuracy: 0.3524\n",
            "Epoch 2: val_loss did not improve from 2.34294\n",
            "1563/1563 [==============================] - 14s 9ms/step - loss: 2.5048 - accuracy: 0.3523 - val_loss: 2.4405 - val_accuracy: 0.3714\n",
            "Epoch 3/20\n",
            "1558/1563 [============================>.] - ETA: 0s - loss: 2.4954 - accuracy: 0.3521\n",
            "Epoch 3: val_loss improved from 2.34294 to 2.31422, saving model to model.hdf5\n",
            "1563/1563 [==============================] - 15s 9ms/step - loss: 2.4954 - accuracy: 0.3522 - val_loss: 2.3142 - val_accuracy: 0.3974\n",
            "Epoch 4/20\n",
            "1556/1563 [============================>.] - ETA: 0s - loss: 2.4876 - accuracy: 0.3526\n",
            "Epoch 4: val_loss did not improve from 2.31422\n",
            "1563/1563 [==============================] - 14s 9ms/step - loss: 2.4873 - accuracy: 0.3528 - val_loss: 2.4109 - val_accuracy: 0.3795\n",
            "Epoch 5/20\n",
            "1559/1563 [============================>.] - ETA: 0s - loss: 2.4875 - accuracy: 0.3562\n",
            "Epoch 5: val_loss did not improve from 2.31422\n",
            "1563/1563 [==============================] - 13s 8ms/step - loss: 2.4875 - accuracy: 0.3561 - val_loss: 2.4895 - val_accuracy: 0.3646\n",
            "Epoch 6/20\n",
            "1561/1563 [============================>.] - ETA: 0s - loss: 2.4800 - accuracy: 0.3571\n",
            "Epoch 6: val_loss did not improve from 2.31422\n",
            "1563/1563 [==============================] - 14s 9ms/step - loss: 2.4802 - accuracy: 0.3571 - val_loss: 2.4834 - val_accuracy: 0.3613\n",
            "Epoch 7/20\n",
            "1563/1563 [==============================] - ETA: 0s - loss: 2.4724 - accuracy: 0.3586\n",
            "Epoch 7: val_loss did not improve from 2.31422\n",
            "1563/1563 [==============================] - 13s 9ms/step - loss: 2.4724 - accuracy: 0.3586 - val_loss: 2.3554 - val_accuracy: 0.3857\n",
            "Epoch 8/20\n",
            "1560/1563 [============================>.] - ETA: 0s - loss: 2.4653 - accuracy: 0.3581\n",
            "Epoch 8: val_loss did not improve from 2.31422\n",
            "1563/1563 [==============================] - 13s 8ms/step - loss: 2.4655 - accuracy: 0.3580 - val_loss: 2.3570 - val_accuracy: 0.3881\n",
            "Epoch 9/20\n",
            "1560/1563 [============================>.] - ETA: 0s - loss: 2.4516 - accuracy: 0.3602\n",
            "Epoch 9: val_loss did not improve from 2.31422\n",
            "1563/1563 [==============================] - 13s 9ms/step - loss: 2.4516 - accuracy: 0.3603 - val_loss: 2.4801 - val_accuracy: 0.3603\n",
            "Epoch 10/20\n",
            "1558/1563 [============================>.] - ETA: 0s - loss: 2.4482 - accuracy: 0.3616\n",
            "Epoch 10: val_loss did not improve from 2.31422\n",
            "1563/1563 [==============================] - 14s 9ms/step - loss: 2.4492 - accuracy: 0.3614 - val_loss: 2.3798 - val_accuracy: 0.3832\n",
            "Epoch 11/20\n",
            "1562/1563 [============================>.] - ETA: 0s - loss: 2.4433 - accuracy: 0.3618\n",
            "Epoch 11: val_loss did not improve from 2.31422\n",
            "1563/1563 [==============================] - 14s 9ms/step - loss: 2.4435 - accuracy: 0.3618 - val_loss: 2.3750 - val_accuracy: 0.3898\n",
            "Epoch 12/20\n",
            "1561/1563 [============================>.] - ETA: 0s - loss: 2.4366 - accuracy: 0.3656\n",
            "Epoch 12: val_loss did not improve from 2.31422\n",
            "1563/1563 [==============================] - 14s 9ms/step - loss: 2.4366 - accuracy: 0.3656 - val_loss: 2.3621 - val_accuracy: 0.3912\n",
            "Epoch 13/20\n",
            "1560/1563 [============================>.] - ETA: 0s - loss: 2.4247 - accuracy: 0.3671\n",
            "Epoch 13: val_loss did not improve from 2.31422\n",
            "1563/1563 [==============================] - 14s 9ms/step - loss: 2.4248 - accuracy: 0.3671 - val_loss: 2.5375 - val_accuracy: 0.3533\n",
            "Epoch 14/20\n",
            "1561/1563 [============================>.] - ETA: 0s - loss: 2.4248 - accuracy: 0.3683\n",
            "Epoch 14: val_loss did not improve from 2.31422\n",
            "1563/1563 [==============================] - 13s 9ms/step - loss: 2.4248 - accuracy: 0.3683 - val_loss: 2.3571 - val_accuracy: 0.3816\n",
            "Epoch 15/20\n",
            "1559/1563 [============================>.] - ETA: 0s - loss: 2.4202 - accuracy: 0.3690\n",
            "Epoch 15: val_loss did not improve from 2.31422\n",
            "1563/1563 [==============================] - 13s 8ms/step - loss: 2.4208 - accuracy: 0.3689 - val_loss: 2.4717 - val_accuracy: 0.3648\n",
            "Epoch 16/20\n",
            "1560/1563 [============================>.] - ETA: 0s - loss: 2.4180 - accuracy: 0.3665\n",
            "Epoch 16: val_loss did not improve from 2.31422\n",
            "1563/1563 [==============================] - 14s 9ms/step - loss: 2.4175 - accuracy: 0.3666 - val_loss: 2.4894 - val_accuracy: 0.3633\n",
            "Epoch 17/20\n",
            "1560/1563 [============================>.] - ETA: 0s - loss: 2.4079 - accuracy: 0.3676\n",
            "Epoch 17: val_loss improved from 2.31422 to 2.23795, saving model to model.hdf5\n",
            "1563/1563 [==============================] - 13s 9ms/step - loss: 2.4081 - accuracy: 0.3675 - val_loss: 2.2379 - val_accuracy: 0.4140\n",
            "Epoch 18/20\n",
            "1562/1563 [============================>.] - ETA: 0s - loss: 2.3983 - accuracy: 0.3734\n",
            "Epoch 18: val_loss did not improve from 2.23795\n",
            "1563/1563 [==============================] - 13s 9ms/step - loss: 2.3982 - accuracy: 0.3734 - val_loss: 2.3185 - val_accuracy: 0.3987\n",
            "Epoch 19/20\n",
            "1558/1563 [============================>.] - ETA: 0s - loss: 2.3953 - accuracy: 0.3732\n",
            "Epoch 19: val_loss did not improve from 2.23795\n",
            "1563/1563 [==============================] - 14s 9ms/step - loss: 2.3950 - accuracy: 0.3732 - val_loss: 2.2962 - val_accuracy: 0.4007\n",
            "Epoch 20/20\n",
            "1562/1563 [============================>.] - ETA: 0s - loss: 2.3915 - accuracy: 0.3785\n",
            "Epoch 20: val_loss did not improve from 2.23795\n",
            "1563/1563 [==============================] - 14s 9ms/step - loss: 2.3916 - accuracy: 0.3785 - val_loss: 2.3083 - val_accuracy: 0.4074\n"
          ]
        }
      ]
    },
    {
      "cell_type": "code",
      "source": [
        "from matplotlib import pyplot as plt\n",
        "\n",
        "plt.plot(history.history['accuracy'])\n",
        "plt.plot(history.history['val_accuracy'])\n",
        "plt.title('model accuracy')\n",
        "plt.ylabel('accuracy')\n",
        "plt.xlabel('epoch')\n",
        "plt.legend(['train', 'val'], loc='upper right')\n",
        "plt.show()\n",
        "\n",
        "plt.plot(history.history['loss'])\n",
        "plt.plot(history.history['val_loss'])\n",
        "plt.title('model loss')\n",
        "plt.ylabel('loss')\n",
        "plt.xlabel('epoch')\n",
        "plt.legend(['train', 'val'], loc='upper right')\n",
        "plt.show()"
      ],
      "metadata": {
        "colab": {
          "base_uri": "https://localhost:8080/",
          "height": 573
        },
        "id": "9GxCzWPiW7w_",
        "outputId": "da02f309-509c-4da3-a6a6-77fb1f15fd3b"
      },
      "execution_count": null,
      "outputs": [
        {
          "output_type": "display_data",
          "data": {
            "text/plain": [
              "<Figure size 432x288 with 1 Axes>"
            ],
            "image/png": "[encoded data removed]"
          },
          "metadata": {
            "needs_background": "light"
          }
        },
        {
          "output_type": "display_data",
          "data": {
            "text/plain": [
              "<Figure size 432x288 with 1 Axes>"
            ],
            "image/png": "[encoded data removed]"
          },
          "metadata": {
            "needs_background": "light"
          }
        }
      ]
    },
    {
      "cell_type": "code",
      "source": [
        "model.summary()"
      ],
      "metadata": {
        "colab": {
          "base_uri": "https://localhost:8080/"
        },
        "id": "yahuFm2-gsQX",
        "outputId": "020f5ac6-8dc9-4938-ede8-e6f80d121dbc"
      },
      "execution_count": null,
      "outputs": [
        {
          "output_type": "stream",
          "name": "stdout",
          "text": [
            "Model: \"sequential\"\n",
            "_________________________________________________________________\n",
            " Layer (type)                Output Shape              Param #   \n",
            "=================================================================\n",
            " conv2d (Conv2D)             (None, 26, 26, 64)        9472      \n",
            "                                                                 \n",
            " batch_normalization (BatchN  (None, 26, 26, 64)       256       \n",
            " ormalization)                                                   \n",
            "                                                                 \n",
            " dropout (Dropout)           (None, 26, 26, 64)        0         \n",
            "                                                                 \n",
            " conv2d_1 (Conv2D)           (None, 22, 22, 64)        102464    \n",
            "                                                                 \n",
            " batch_normalization_1 (Batc  (None, 22, 22, 64)       256       \n",
            " hNormalization)                                                 \n",
            "                                                                 \n",
            " max_pooling2d (MaxPooling2D  (None, 11, 11, 64)       0         \n",
            " )                                                               \n",
            "                                                                 \n",
            " dropout_1 (Dropout)         (None, 11, 11, 64)        0         \n",
            "                                                                 \n",
            " conv2d_2 (Conv2D)           (None, 9, 9, 128)         73856     \n",
            "                                                                 \n",
            " batch_normalization_2 (Batc  (None, 9, 9, 128)        512       \n",
            " hNormalization)                                                 \n",
            "                                                                 \n",
            " max_pooling2d_1 (MaxPooling  (None, 4, 4, 128)        0         \n",
            " 2D)                                                             \n",
            "                                                                 \n",
            " dropout_2 (Dropout)         (None, 4, 4, 128)         0         \n",
            "                                                                 \n",
            " flatten (Flatten)           (None, 2048)              0         \n",
            "                                                                 \n",
            " dense (Dense)               (None, 1024)              2098176   \n",
            "                                                                 \n",
            " batch_normalization_3 (Batc  (None, 1024)             4096      \n",
            " hNormalization)                                                 \n",
            "                                                                 \n",
            " dropout_3 (Dropout)         (None, 1024)              0         \n",
            "                                                                 \n",
            " dense_1 (Dense)             (None, 512)               524800    \n",
            "                                                                 \n",
            " batch_normalization_4 (Batc  (None, 512)              2048      \n",
            " hNormalization)                                                 \n",
            "                                                                 \n",
            " dropout_4 (Dropout)         (None, 512)               0         \n",
            "                                                                 \n",
            " dense_2 (Dense)             (None, 256)               131328    \n",
            "                                                                 \n",
            " batch_normalization_5 (Batc  (None, 256)              1024      \n",
            " hNormalization)                                                 \n",
            "                                                                 \n",
            " dropout_5 (Dropout)         (None, 256)               0         \n",
            "                                                                 \n",
            " dense_3 (Dense)             (None, 128)               32896     \n",
            "                                                                 \n",
            " batch_normalization_6 (Batc  (None, 128)              512       \n",
            " hNormalization)                                                 \n",
            "                                                                 \n",
            " dropout_6 (Dropout)         (None, 128)               0         \n",
            "                                                                 \n",
            " dense_4 (Dense)             (None, 100)               12900     \n",
            "                                                                 \n",
            "=================================================================\n",
            "Total params: 2,994,596\n",
            "Trainable params: 2,990,244\n",
            "Non-trainable params: 4,352\n",
            "_________________________________________________________________\n"
          ]
        }
      ]
    },
    {
      "cell_type": "code",
      "source": [],
      "metadata": {
        "id": "f5RphmUCgtYX"
      },
      "execution_count": null,
      "outputs": []
    }
  ]
}