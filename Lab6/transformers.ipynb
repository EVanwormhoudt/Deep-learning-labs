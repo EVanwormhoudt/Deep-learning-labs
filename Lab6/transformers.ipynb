{
  "cells": [
    {
      "cell_type": "code",
      "execution_count": null,
      "metadata": {
        "id": "obmVQkKkNmZk"
      },
      "outputs": [],
      "source": [
        "import tensorflow as tf\n",
        "\n",
        "import tensorflow_models as tfm\n",
        "import tensorflow as tf\n",
        "from tensorflow import keras\n",
        "from tensorflow.keras.models import Sequential\n",
        "from tensorflow.keras.layers import Embedding, GlobalAveragePooling1D,Dense,Input\n",
        "from tensorflow.keras.utils import pad_sequences\n",
        "import pandas as pd"
      ]
    },
    {
      "cell_type": "code",
      "execution_count": null,
      "metadata": {
        "colab": {
          "base_uri": "https://localhost:8080/"
        },
        "id": "DnyFZ_IsXWTB",
        "outputId": "c690a66f-2bca-474d-9297-f6744b1d300d"
      },
      "outputs": [
        {
          "data": {
            "text/plain": [
              "official.nlp.modeling.layers.transformer_encoder_block.TransformerEncoderBlock"
            ]
          },
          "execution_count": 23,
          "metadata": {},
          "output_type": "execute_result"
        }
      ],
      "source": [
        "tfm.nlp.layers.TransformerEncoderBlock"
      ]
    },
    {
      "cell_type": "code",
      "execution_count": null,
      "metadata": {
        "id": "3IhZSuqlXfPY"
      },
      "outputs": [],
      "source": [
        "(X_train,y_train),(X_test,y_test) = tf.keras.datasets.reuters.load_data(num_words=10000)\n",
        "y_train =  tf.convert_to_tensor(pd.get_dummies(y_train))\n",
        "y_test = tf.convert_to_tensor(pd.get_dummies(y_test))"
      ]
    },
    {
      "cell_type": "code",
      "execution_count": null,
      "metadata": {
        "id": "RH-NYKpsX23h"
      },
      "outputs": [],
      "source": [
        "class PositionEncoding(keras.layers.Layer):\n",
        "    def __init__(self, **kwargs):\n",
        "        super().__init__(**kwargs)\n",
        "    def make_values(self, n, d):\n",
        "        # intialize with the denominator inside of sine values\n",
        "        pos_enc = 1 / 10000**(2 * tf.range(tf.cast(tf.math.ceil(d/2), tf.float32) / tf.cast(d, tf.float32)))\n",
        "        \n",
        "        # multiply by position (numerator)\n",
        "        pos_enc = pos_enc * tf.cast(tf.repeat(tf.expand_dims(tf.range(n), axis=-1), tf.cast(tf.math.ceil(d/2), tf.int32), axis=-1), tf.float32)\n",
        "        \n",
        "        return pos_enc\n",
        "    def call(self, inputs):\n",
        "        input_shape = tf.shape(inputs)   # batch, sequence, features\n",
        "        # computes the inside of sine values\n",
        "        pos_enc = self.make_values(input_shape[1], input_shape[2])\n",
        "        \n",
        "        # stack sine and cosine values\n",
        "        pos_enc = tf.stack((tf.sin(pos_enc), tf.cos(pos_enc)), axis=-1)\n",
        "        \n",
        "        # reshape them to get sine in even and cosine in odd dimensions\n",
        "        pos_enc = tf.reshape(pos_enc, (input_shape[1], -1))\n",
        "        \n",
        "        # repeat for all sample in batch\n",
        "        pos_enc = tf.repeat(tf.expand_dims(pos_enc, axis=0), input_shape[0], axis=0)\n",
        "        \n",
        "        # add to inputs\n",
        "        return inputs + pos_enc[..., :input_shape[2]]\n"
      ]
    },
    {
      "cell_type": "code",
      "execution_count": null,
      "metadata": {
        "colab": {
          "base_uri": "https://localhost:8080/"
        },
        "id": "wnT1XG8uZum3",
        "outputId": "f9719b06-3b8b-4e9b-ea9e-e726a17a367e"
      },
      "outputs": [
        {
          "name": "stdout",
          "output_type": "stream",
          "text": [
            "tf.Tensor(\n",
            "[[  0   0   0 ...  15  17  12]\n",
            " [  0   0   0 ... 505  17  12]\n",
            " [  0   0   0 ...  11  17  12]\n",
            " ...\n",
            " [  0   0   0 ... 407  17  12]\n",
            " [  0   0   0 ... 364  17  12]\n",
            " [  0   0   0 ... 113  17  12]], shape=(8982, 200), dtype=int32)\n"
          ]
        }
      ],
      "source": [
        "\n",
        "maxlen = 200\n",
        "\n",
        "X_train = tf.convert_to_tensor(pad_sequences(X_train,maxlen=maxlen))\n",
        "X_test = tf.convert_to_tensor(pad_sequences(X_test,maxlen=maxlen))\n",
        "print(X_train)"
      ]
    },
    {
      "cell_type": "code",
      "execution_count": null,
      "metadata": {
        "id": "g1flsklKZT2l"
      },
      "outputs": [],
      "source": [
        "model = Sequential()\n",
        "model.add(Input(shape=(maxlen,)))\n",
        "model.add(Embedding(maxlen,128,mask_zero=True))\n",
        "model.add(PositionEncoding())\n",
        "for i in range(4):\n",
        "  model.add(tfm.nlp.layers.TransformerEncoderBlock(8,512,\"relu\"))\n",
        "model.add(GlobalAveragePooling1D())\n",
        "model.add(Dense(46,activation=\"softmax\"))"
      ]
    },
    {
      "cell_type": "code",
      "execution_count": null,
      "metadata": {
        "colab": {
          "base_uri": "https://localhost:8080/"
        },
        "id": "9Vg_f-MleDsO",
        "outputId": "1b01eaf2-068e-4ab6-eec9-4a29a2a32240"
      },
      "outputs": [
        {
          "name": "stdout",
          "output_type": "stream",
          "text": [
            "Model: \"sequential_3\"\n",
            "_________________________________________________________________\n",
            " Layer (type)                Output Shape              Param #   \n",
            "=================================================================\n",
            " embedding_3 (Embedding)     (None, 200, 128)          25600     \n",
            "                                                                 \n",
            " position_encoding_3 (Positi  (None, 200, 128)         0         \n",
            " onEncoding)                                                     \n",
            "                                                                 \n",
            " transformer_encoder_block_1  (None, 200, 128)         198272    \n",
            " 2 (TransformerEncoderBlock)                                     \n",
            "                                                                 \n",
            " transformer_encoder_block_1  (None, 200, 128)         198272    \n",
            " 3 (TransformerEncoderBlock)                                     \n",
            "                                                                 \n",
            " transformer_encoder_block_1  (None, 200, 128)         198272    \n",
            " 4 (TransformerEncoderBlock)                                     \n",
            "                                                                 \n",
            " transformer_encoder_block_1  (None, 200, 128)         198272    \n",
            " 5 (TransformerEncoderBlock)                                     \n",
            "                                                                 \n",
            " global_average_pooling1d_3   (None, 128)              0         \n",
            " (GlobalAveragePooling1D)                                        \n",
            "                                                                 \n",
            " dense_3 (Dense)             (None, 46)                5934      \n",
            "                                                                 \n",
            "=================================================================\n",
            "Total params: 824,622\n",
            "Trainable params: 824,622\n",
            "Non-trainable params: 0\n",
            "_________________________________________________________________\n"
          ]
        }
      ],
      "source": [
        "model.summary()"
      ]
    },
    {
      "cell_type": "code",
      "execution_count": null,
      "metadata": {
        "id": "PT-wapxXeeQq"
      },
      "outputs": [],
      "source": [
        " model.compile(loss='categorical_crossentropy', optimizer='adam', metrics=[\"accuracy\"])"
      ]
    },
    {
      "cell_type": "code",
      "execution_count": null,
      "metadata": {
        "colab": {
          "background_save": true,
          "base_uri": "https://localhost:8080/"
        },
        "id": "bALWVc5see2Z",
        "outputId": "bf9046a3-32fc-4ff9-d3d4-d138432f4198"
      },
      "outputs": [
        {
          "name": "stdout",
          "output_type": "stream",
          "text": [
            "Epoch 1/10\n",
            "281/281 [==============================] - 43s 113ms/step - loss: 2.1946 - accuracy: 0.4379 - val_loss: 1.8967 - val_accuracy: 0.5303\n",
            "Epoch 2/10\n",
            "281/281 [==============================] - 23s 82ms/step - loss: 1.8492 - accuracy: 0.5212 - val_loss: 1.8597 - val_accuracy: 0.5142\n",
            "Epoch 3/10\n",
            "281/281 [==============================] - 19s 67ms/step - loss: 1.7881 - accuracy: 0.5407 - val_loss: 1.7775 - val_accuracy: 0.5450\n",
            "Epoch 4/10\n",
            "281/281 [==============================] - 16s 58ms/step - loss: 1.7476 - accuracy: 0.5538 - val_loss: 1.8043 - val_accuracy: 0.5730\n",
            "Epoch 5/10\n",
            "281/281 [==============================] - 17s 60ms/step - loss: 1.6966 - accuracy: 0.5733 - val_loss: 1.7423 - val_accuracy: 0.5677\n",
            "Epoch 6/10\n",
            "281/281 [==============================] - 15s 54ms/step - loss: 1.7003 - accuracy: 0.5736 - val_loss: 1.9432 - val_accuracy: 0.5530\n",
            "Epoch 7/10\n",
            "281/281 [==============================] - 15s 53ms/step - loss: 1.6798 - accuracy: 0.5715 - val_loss: 1.6832 - val_accuracy: 0.5659\n",
            "Epoch 8/10\n",
            "281/281 [==============================] - 15s 52ms/step - loss: 1.6568 - accuracy: 0.5779 - val_loss: 1.8611 - val_accuracy: 0.5245\n",
            "Epoch 9/10\n",
            "281/281 [==============================] - 15s 52ms/step - loss: 2.2396 - accuracy: 0.3991 - val_loss: 2.3959 - val_accuracy: 0.4386\n",
            "Epoch 10/10\n",
            "281/281 [==============================] - 14s 51ms/step - loss: 2.3880 - accuracy: 0.3497 - val_loss: 2.6881 - val_accuracy: 0.2079\n"
          ]
        },
        {
          "data": {
            "text/plain": [
              "<keras.callbacks.History at 0x7ff178c46820>"
            ]
          },
          "execution_count": 37,
          "metadata": {},
          "output_type": "execute_result"
        }
      ],
      "source": [
        "model.fit(X_train,y_train,validation_data=(X_test,y_test),epochs=10)"
      ]
    }
  ],
  "metadata": {
    "accelerator": "GPU",
    "colab": {
      "provenance": []
    },
    "gpuClass": "standard",
    "kernelspec": {
      "display_name": "Python 3",
      "name": "python3"
    },
    "language_info": {
      "name": "python"
    }
  },
  "nbformat": 4,
  "nbformat_minor": 0
}