{
 "nbformat": 4,
 "nbformat_minor": 0,
 "metadata": {
  "colab": {
   "provenance": []
  },
  "kernelspec": {
   "name": "python3",
   "display_name": "Python 3"
  },
  "language_info": {
   "name": "python"
  }
 },
 "cells": [
  {
   "cell_type": "code",
   "execution_count": null,
   "metadata": {
    "id": "aJMwtESDKzc3"
   },
   "outputs": [],
   "source": [
    "import tensorflow as tf\n",
    "import numpy as np\n",
    "from tensorflow.keras.utils import to_categorical\n",
    "from tensorflow.keras.layers import  Dense\n",
    "from tensorflow.keras.models import Sequential\n"
   ]
  },
  {
   "cell_type": "code",
   "source": [
    "mnist = tf.keras.datasets.mnist\n",
    "\n",
    "(x_train,y_train),(x_validation,y_validation) = mnist.load_data()\n",
    "\n",
    "x_train = x_train.reshape(60000,784)\n",
    "x_validation = x_validation.reshape(10000,784)\n",
    "x_train = x_train.astype(\"float32\")\n",
    "x_validation = x_validation.astype(\"float32\")\n"
   ],
   "metadata": {
    "id": "k-4LRA54Lusi",
    "colab": {
     "base_uri": "https://localhost:8080/"
    },
    "outputId": "8c020a69-760b-4433-b797-345b2c8b60d5"
   },
   "execution_count": null,
   "outputs": [
    {
     "output_type": "stream",
     "name": "stdout",
     "text": [
      "Downloading data from https://storage.googleapis.com/tensorflow/tf-keras-datasets/mnist.npz\n",
      "11490434/11490434 [==============================] - 1s 0us/step\n"
     ]
    }
   ]
  },
  {
   "cell_type": "code",
   "source": [
    "x_train /= 255\n",
    "x_validation /= 255\n",
    "\n",
    "y_train = to_categorical(y_train, num_classes=10, dtype='int64')\n",
    "y_validation = to_categorical(y_validation, num_classes=10, dtype='int64')"
   ],
   "metadata": {
    "id": "eOQGkIlmMnNI"
   },
   "execution_count": null,
   "outputs": []
  },
  {
   "cell_type": "code",
   "source": [
    "print(\"train samples\", x_train.shape)\n",
    "print(\"test samples\",x_validation.shape)"
   ],
   "metadata": {
    "colab": {
     "base_uri": "https://localhost:8080/"
    },
    "id": "fRev2B83MwQ3",
    "outputId": "66c8d3c5-592a-412c-a17c-3ad111145d9a"
   },
   "execution_count": null,
   "outputs": [
    {
     "output_type": "stream",
     "name": "stdout",
     "text": [
      "train samples (60000, 784)\n",
      "test samples (10000, 784)\n"
     ]
    }
   ]
  },
  {
   "cell_type": "code",
   "source": [
    "print(\"train label samples\", y_train.shape)\n",
    "print(\"test label samples\",y_validation.shape)"
   ],
   "metadata": {
    "colab": {
     "base_uri": "https://localhost:8080/"
    },
    "id": "exOurrJ8M5Ar",
    "outputId": "f70288e7-826c-4a82-8182-dc8ce7b64d22"
   },
   "execution_count": null,
   "outputs": [
    {
     "output_type": "stream",
     "name": "stdout",
     "text": [
      "train label samples (60000, 10)\n",
      "test label samples (10000, 10)\n"
     ]
    }
   ]
  },
  {
   "cell_type": "code",
   "source": [
    "model = Sequential()\n",
    "\n",
    "model.add(Dense(512,input_dim = 784,activation=\"relu\"))\n",
    "model.add(Dense(256, activation='relu'))\n",
    "model.add(Dense(128, activation='relu'))\n",
    "model.add(Dense(64, activation='relu'))\n",
    "model.add(Dense(32, activation='relu'))\n",
    "model.add(Dense(16, activation='relu'))\n",
    "model.add(Dense(10, activation='sigmoid'))\n"
   ],
   "metadata": {
    "id": "GXkknIMpNMZN"
   },
   "execution_count": null,
   "outputs": []
  },
  {
   "cell_type": "code",
   "source": [
    " model.compile(loss='categorical_crossentropy', optimizer='adam', metrics=[\"accuracy\"])"
   ],
   "metadata": {
    "id": "O8z6LjBVQU7k"
   },
   "execution_count": null,
   "outputs": []
  },
  {
   "cell_type": "code",
   "source": [
    "from tensorflow.keras.callbacks import ModelCheckpoint\n",
    "\n",
    "checkpointer = ModelCheckpoint(filepath=\"model.hdf5\",monitor=\"val_loss\",verbose=1,save_best_only = True)\n",
    "\n",
    "history = model.fit(x_train,y_train,validation_data=(x_validation,y_validation),epochs = 10,callbacks=[checkpointer])"
   ],
   "metadata": {
    "colab": {
     "base_uri": "https://localhost:8080/"
    },
    "id": "LgP6V7S5QtWM",
    "outputId": "88163215-0d10-45e5-9ff9-f8ea3ccdb58c"
   },
   "execution_count": null,
   "outputs": [
    {
     "output_type": "stream",
     "name": "stdout",
     "text": [
      "Epoch 1/10\n",
      "1869/1875 [============================>.] - ETA: 0s - loss: 0.2620 - accuracy: 0.9237\n",
      "Epoch 1: val_loss improved from inf to 0.15092, saving model to model.hdf5\n",
      "1875/1875 [==============================] - 19s 10ms/step - loss: 0.2617 - accuracy: 0.9237 - val_loss: 0.1509 - val_accuracy: 0.9592\n",
      "Epoch 2/10\n",
      "1869/1875 [============================>.] - ETA: 0s - loss: 0.1049 - accuracy: 0.9703\n",
      "Epoch 2: val_loss improved from 0.15092 to 0.09751, saving model to model.hdf5\n",
      "1875/1875 [==============================] - 18s 10ms/step - loss: 0.1048 - accuracy: 0.9703 - val_loss: 0.0975 - val_accuracy: 0.9706\n",
      "Epoch 3/10\n",
      "1872/1875 [============================>.] - ETA: 0s - loss: 0.0754 - accuracy: 0.9787\n",
      "Epoch 3: val_loss improved from 0.09751 to 0.08591, saving model to model.hdf5\n",
      "1875/1875 [==============================] - 19s 10ms/step - loss: 0.0753 - accuracy: 0.9787 - val_loss: 0.0859 - val_accuracy: 0.9768\n",
      "Epoch 4/10\n",
      "1875/1875 [==============================] - ETA: 0s - loss: 0.0610 - accuracy: 0.9821\n",
      "Epoch 4: val_loss improved from 0.08591 to 0.07674, saving model to model.hdf5\n",
      "1875/1875 [==============================] - 18s 10ms/step - loss: 0.0610 - accuracy: 0.9821 - val_loss: 0.0767 - val_accuracy: 0.9787\n",
      "Epoch 5/10\n",
      "1873/1875 [============================>.] - ETA: 0s - loss: 0.0487 - accuracy: 0.9861\n",
      "Epoch 5: val_loss did not improve from 0.07674\n",
      "1875/1875 [==============================] - 18s 10ms/step - loss: 0.0487 - accuracy: 0.9861 - val_loss: 0.0801 - val_accuracy: 0.9784\n",
      "Epoch 6/10\n",
      "1869/1875 [============================>.] - ETA: 0s - loss: 0.0432 - accuracy: 0.9870\n",
      "Epoch 6: val_loss did not improve from 0.07674\n",
      "1875/1875 [==============================] - 18s 10ms/step - loss: 0.0432 - accuracy: 0.9870 - val_loss: 0.0803 - val_accuracy: 0.9796\n",
      "Epoch 7/10\n",
      "1874/1875 [============================>.] - ETA: 0s - loss: 0.0330 - accuracy: 0.9901\n",
      "Epoch 7: val_loss did not improve from 0.07674\n",
      "1875/1875 [==============================] - 18s 9ms/step - loss: 0.0330 - accuracy: 0.9901 - val_loss: 0.1047 - val_accuracy: 0.9725\n",
      "Epoch 8/10\n",
      "1871/1875 [============================>.] - ETA: 0s - loss: 0.0329 - accuracy: 0.9907\n",
      "Epoch 8: val_loss did not improve from 0.07674\n",
      "1875/1875 [==============================] - 17s 9ms/step - loss: 0.0329 - accuracy: 0.9908 - val_loss: 0.1041 - val_accuracy: 0.9730\n",
      "Epoch 9/10\n",
      "1872/1875 [============================>.] - ETA: 0s - loss: 0.0253 - accuracy: 0.9927\n",
      "Epoch 9: val_loss did not improve from 0.07674\n",
      "1875/1875 [==============================] - 17s 9ms/step - loss: 0.0253 - accuracy: 0.9927 - val_loss: 0.0824 - val_accuracy: 0.9830\n",
      "Epoch 10/10\n",
      "1870/1875 [============================>.] - ETA: 0s - loss: 0.0273 - accuracy: 0.9923\n",
      "Epoch 10: val_loss did not improve from 0.07674\n",
      "1875/1875 [==============================] - 16s 9ms/step - loss: 0.0273 - accuracy: 0.9923 - val_loss: 0.0820 - val_accuracy: 0.9814\n"
     ]
    }
   ]
  },
  {
   "cell_type": "code",
   "source": [
    "from matplotlib import pyplot as plt\n",
    "\n",
    "plt.plot(history.history['accuracy'])\n",
    "plt.plot(history.history['val_accuracy'])\n",
    "plt.title('model accuracy')\n",
    "plt.ylabel('accuracy')\n",
    "plt.xlabel('epoch')\n",
    "plt.legend(['train', 'val'], loc='upper right')\n",
    "plt.show()\n",
    "\n",
    "plt.plot(history.history['loss'])\n",
    "plt.plot(history.history['val_loss'])\n",
    "plt.title('model loss')\n",
    "plt.ylabel('loss')\n",
    "plt.xlabel('epoch')\n",
    "plt.legend(['train', 'val'], loc='upper right')\n",
    "plt.show()"
   ],
   "metadata": {
    "colab": {
     "base_uri": "https://localhost:8080/",
     "height": 573
    },
    "id": "X-uQcxyyT-mK",
    "outputId": "4ecf8f58-07aa-4886-e207-1ace6690d6ee"
   },
   "execution_count": null,
   "outputs": [
    {
     "output_type": "display_data",
     "data": {
      "text/plain": [
       "<Figure size 432x288 with 1 Axes>"
      ],
      "image/png": "[encoded data removed]"
     },
     "metadata": {
      "needs_background": "light"
     }
    },
    {
     "output_type": "display_data",
     "data": {
      "text/plain": [
       "<Figure size 432x288 with 1 Axes>"
      ],
      "image/png": "[encoded data removed]"
     },
     "metadata": {
      "needs_background": "light"
     }
    }
   ]
  },
  {
   "cell_type": "code",
   "source": [
    "from tensorflow.keras.models import load_model\n",
    "model = load_model('model.hdf5')\n",
    "import cv2\n",
    "from matplotlib import pyplot as plt\n",
    "\n",
    "image = x_validation[8].reshape(28,28)\n",
    "plt.imshow(cv2.cvtColor(image, cv2.COLOR_BGR2RGB))\n",
    "plt.axis('off')\n",
    "\n",
    "datapoint = x_validation[6].reshape(1,784)\n",
    "predict_prob = model.predict(datapoint)\n",
    "print('I am confident around {:.2f}% that this image corresponds to digit {}'.format(np.amax(predict_prob)*100, np.argmax(predict_prob)))"
   ],
   "metadata": {
    "colab": {
     "base_uri": "https://localhost:8080/",
     "height": 284
    },
    "id": "pbA-aFiOXLha",
    "outputId": "c7c36497-72b4-4b76-fa9f-b291daceffb7"
   },
   "execution_count": null,
   "outputs": [
    {
     "output_type": "stream",
     "name": "stdout",
     "text": [
      "1/1 [==============================] - 0s 129ms/step\n",
      "I am confident around 100.00% that this image corresponds to digit 4\n"
     ]
    },
    {
     "output_type": "display_data",
     "data": {
      "text/plain": [
       "<Figure size 432x288 with 1 Axes>"
      ],
      "image/png": "[encoded data removed]"
     },
     "metadata": {
      "needs_background": "light"
     }
    }
   ]
  },
  {
   "cell_type": "code",
   "source": [],
   "metadata": {
    "id": "jKtQFHb48KjX"
   },
   "execution_count": null,
   "outputs": []
  }
 ]
}
